{
 "cells": [
  {
   "cell_type": "code",
   "execution_count": 1,
   "id": "31451d7a",
   "metadata": {},
   "outputs": [],
   "source": [
    "import pandas as pd\n",
    "\n",
    "from sklearn import preprocessing\n",
    "from sklearn.model_selection import train_test_split\n",
    "from sklearn.ensemble import RandomForestClassifier\n",
    "\n",
    "from sklearn.ensemble import RandomForestClassifier\n",
    "from sklearn.tree import DecisionTreeClassifier\n",
    "from sklearn.neighbors import KNeighborsClassifier\n",
    "from sklearn.naive_bayes import GaussianNB\n",
    "from sklearn.linear_model import LogisticRegression\n",
    "from sklearn.svm import SVC\n",
    "\n",
    "from sklearn.metrics import accuracy_score"
   ]
  },
  {
   "cell_type": "code",
   "execution_count": 2,
   "id": "6abf75b6",
   "metadata": {},
   "outputs": [
    {
     "data": {
      "text/html": [
       "<div>\n",
       "<style scoped>\n",
       "    .dataframe tbody tr th:only-of-type {\n",
       "        vertical-align: middle;\n",
       "    }\n",
       "\n",
       "    .dataframe tbody tr th {\n",
       "        vertical-align: top;\n",
       "    }\n",
       "\n",
       "    .dataframe thead th {\n",
       "        text-align: right;\n",
       "    }\n",
       "</style>\n",
       "<table border=\"1\" class=\"dataframe\">\n",
       "  <thead>\n",
       "    <tr style=\"text-align: right;\">\n",
       "      <th></th>\n",
       "      <th>Gender</th>\n",
       "      <th>age</th>\n",
       "      <th>Daily Sodium intake</th>\n",
       "      <th>Hypertension</th>\n",
       "      <th>Daily Sodium Limit (mg)</th>\n",
       "      <th>Exceed limit or not</th>\n",
       "    </tr>\n",
       "  </thead>\n",
       "  <tbody>\n",
       "    <tr>\n",
       "      <th>0</th>\n",
       "      <td>Male</td>\n",
       "      <td>14 and above</td>\n",
       "      <td>1907</td>\n",
       "      <td>No</td>\n",
       "      <td>2300</td>\n",
       "      <td>Normal sodium consumption</td>\n",
       "    </tr>\n",
       "    <tr>\n",
       "      <th>1</th>\n",
       "      <td>Male</td>\n",
       "      <td>14 and above</td>\n",
       "      <td>2503</td>\n",
       "      <td>Yes</td>\n",
       "      <td>1500</td>\n",
       "      <td>High sodium consumption</td>\n",
       "    </tr>\n",
       "    <tr>\n",
       "      <th>2</th>\n",
       "      <td>Female</td>\n",
       "      <td>14 and above</td>\n",
       "      <td>2574</td>\n",
       "      <td>Yes</td>\n",
       "      <td>1500</td>\n",
       "      <td>High sodium consumption</td>\n",
       "    </tr>\n",
       "    <tr>\n",
       "      <th>3</th>\n",
       "      <td>Female</td>\n",
       "      <td>9 to 13</td>\n",
       "      <td>2328</td>\n",
       "      <td>No</td>\n",
       "      <td>2200</td>\n",
       "      <td>High sodium consumption</td>\n",
       "    </tr>\n",
       "    <tr>\n",
       "      <th>4</th>\n",
       "      <td>Female</td>\n",
       "      <td>2 to 3</td>\n",
       "      <td>1730</td>\n",
       "      <td>No</td>\n",
       "      <td>1500</td>\n",
       "      <td>High sodium consumption</td>\n",
       "    </tr>\n",
       "    <tr>\n",
       "      <th>...</th>\n",
       "      <td>...</td>\n",
       "      <td>...</td>\n",
       "      <td>...</td>\n",
       "      <td>...</td>\n",
       "      <td>...</td>\n",
       "      <td>...</td>\n",
       "    </tr>\n",
       "    <tr>\n",
       "      <th>194</th>\n",
       "      <td>Female</td>\n",
       "      <td>9 to 13</td>\n",
       "      <td>1571</td>\n",
       "      <td>No</td>\n",
       "      <td>2200</td>\n",
       "      <td>Normal sodium consumption</td>\n",
       "    </tr>\n",
       "    <tr>\n",
       "      <th>195</th>\n",
       "      <td>Female</td>\n",
       "      <td>9 to 13</td>\n",
       "      <td>2376</td>\n",
       "      <td>No</td>\n",
       "      <td>2200</td>\n",
       "      <td>High sodium consumption</td>\n",
       "    </tr>\n",
       "    <tr>\n",
       "      <th>196</th>\n",
       "      <td>Female</td>\n",
       "      <td>4 to 8</td>\n",
       "      <td>1780</td>\n",
       "      <td>No</td>\n",
       "      <td>1900</td>\n",
       "      <td>Normal sodium consumption</td>\n",
       "    </tr>\n",
       "    <tr>\n",
       "      <th>197</th>\n",
       "      <td>Male</td>\n",
       "      <td>14 and above</td>\n",
       "      <td>2244</td>\n",
       "      <td>No</td>\n",
       "      <td>2300</td>\n",
       "      <td>Normal sodium consumption</td>\n",
       "    </tr>\n",
       "    <tr>\n",
       "      <th>198</th>\n",
       "      <td>Male</td>\n",
       "      <td>9 to 13</td>\n",
       "      <td>2460</td>\n",
       "      <td>No</td>\n",
       "      <td>2200</td>\n",
       "      <td>High sodium consumption</td>\n",
       "    </tr>\n",
       "  </tbody>\n",
       "</table>\n",
       "<p>199 rows × 6 columns</p>\n",
       "</div>"
      ],
      "text/plain": [
       "     Gender           age  Daily Sodium intake Hypertension  \\\n",
       "0     Male   14 and above                 1907           No   \n",
       "1     Male   14 and above                 2503          Yes   \n",
       "2    Female  14 and above                 2574          Yes   \n",
       "3    Female       9 to 13                 2328           No   \n",
       "4    Female        2 to 3                 1730           No   \n",
       "..      ...           ...                  ...          ...   \n",
       "194  Female       9 to 13                 1571           No   \n",
       "195  Female       9 to 13                 2376           No   \n",
       "196  Female        4 to 8                 1780           No   \n",
       "197   Male   14 and above                 2244           No   \n",
       "198   Male        9 to 13                 2460           No   \n",
       "\n",
       "     Daily Sodium Limit (mg)        Exceed limit or not  \n",
       "0                       2300  Normal sodium consumption  \n",
       "1                       1500    High sodium consumption  \n",
       "2                       1500    High sodium consumption  \n",
       "3                       2200    High sodium consumption  \n",
       "4                       1500    High sodium consumption  \n",
       "..                       ...                        ...  \n",
       "194                     2200  Normal sodium consumption  \n",
       "195                     2200    High sodium consumption  \n",
       "196                     1900  Normal sodium consumption  \n",
       "197                     2300  Normal sodium consumption  \n",
       "198                     2200    High sodium consumption  \n",
       "\n",
       "[199 rows x 6 columns]"
      ]
     },
     "execution_count": 2,
     "metadata": {},
     "output_type": "execute_result"
    }
   ],
   "source": [
    "#to read from file\n",
    "Sodium_data = pd.read_csv (\"Sodium_data.csv\")\n",
    "Sodium_data"
   ]
  },
  {
   "cell_type": "code",
   "execution_count": 3,
   "id": "0ec5e1ef",
   "metadata": {},
   "outputs": [
    {
     "data": {
      "text/plain": [
       "Index(['Gender', 'age', 'Daily Sodium intake', 'Hypertension',\n",
       "       'Daily Sodium Limit (mg)', 'Exceed limit or not'],\n",
       "      dtype='object')"
      ]
     },
     "execution_count": 3,
     "metadata": {},
     "output_type": "execute_result"
    }
   ],
   "source": [
    "Sodium_data.columns\n"
   ]
  },
  {
   "cell_type": "code",
   "execution_count": 4,
   "id": "9c226c3d",
   "metadata": {},
   "outputs": [
    {
     "data": {
      "text/plain": [
       "array(['No', 'Yes'], dtype=object)"
      ]
     },
     "execution_count": 4,
     "metadata": {},
     "output_type": "execute_result"
    }
   ],
   "source": [
    "Sodium_data.Hypertension.unique()"
   ]
  },
  {
   "cell_type": "code",
   "execution_count": 5,
   "id": "6a58af8a",
   "metadata": {},
   "outputs": [
    {
     "name": "stdout",
     "output_type": "stream",
     "text": [
      "<class 'pandas.core.frame.DataFrame'>\n",
      "RangeIndex: 199 entries, 0 to 198\n",
      "Data columns (total 6 columns):\n",
      " #   Column                   Non-Null Count  Dtype \n",
      "---  ------                   --------------  ----- \n",
      " 0   Gender                   199 non-null    object\n",
      " 1   age                      199 non-null    object\n",
      " 2   Daily Sodium intake      199 non-null    int64 \n",
      " 3   Hypertension             199 non-null    object\n",
      " 4   Daily Sodium Limit (mg)  199 non-null    int64 \n",
      " 5   Exceed limit or not      199 non-null    object\n",
      "dtypes: int64(2), object(4)\n",
      "memory usage: 9.5+ KB\n"
     ]
    }
   ],
   "source": [
    "Sodium_data.info()"
   ]
  },
  {
   "cell_type": "code",
   "execution_count": 8,
   "id": "60c292b2",
   "metadata": {},
   "outputs": [
    {
     "data": {
      "text/plain": [
       "array([2300, 1500, 2200, 1900], dtype=int64)"
      ]
     },
     "execution_count": 8,
     "metadata": {},
     "output_type": "execute_result"
    }
   ],
   "source": [
    "limit = Sodium_data[['Daily Sodium Limit (mg)' , \n",
    "                 'Exceed limit or not']]\n",
    "limit['Daily Sodium Limit (mg)'].unique()"
   ]
  },
  {
   "cell_type": "code",
   "execution_count": 9,
   "id": "d7fb086e",
   "metadata": {},
   "outputs": [
    {
     "data": {
      "text/html": [
       "<div>\n",
       "<style scoped>\n",
       "    .dataframe tbody tr th:only-of-type {\n",
       "        vertical-align: middle;\n",
       "    }\n",
       "\n",
       "    .dataframe tbody tr th {\n",
       "        vertical-align: top;\n",
       "    }\n",
       "\n",
       "    .dataframe thead th {\n",
       "        text-align: right;\n",
       "    }\n",
       "</style>\n",
       "<table border=\"1\" class=\"dataframe\">\n",
       "  <thead>\n",
       "    <tr style=\"text-align: right;\">\n",
       "      <th></th>\n",
       "      <th>Daily Sodium Limit (mg)</th>\n",
       "      <th>Exceed limit or not</th>\n",
       "    </tr>\n",
       "  </thead>\n",
       "  <tbody>\n",
       "    <tr>\n",
       "      <th>0</th>\n",
       "      <td>2300</td>\n",
       "      <td>Normal sodium consumption</td>\n",
       "    </tr>\n",
       "    <tr>\n",
       "      <th>1</th>\n",
       "      <td>1500</td>\n",
       "      <td>High sodium consumption</td>\n",
       "    </tr>\n",
       "    <tr>\n",
       "      <th>2</th>\n",
       "      <td>1500</td>\n",
       "      <td>High sodium consumption</td>\n",
       "    </tr>\n",
       "    <tr>\n",
       "      <th>3</th>\n",
       "      <td>2200</td>\n",
       "      <td>High sodium consumption</td>\n",
       "    </tr>\n",
       "    <tr>\n",
       "      <th>4</th>\n",
       "      <td>1500</td>\n",
       "      <td>High sodium consumption</td>\n",
       "    </tr>\n",
       "    <tr>\n",
       "      <th>5</th>\n",
       "      <td>2200</td>\n",
       "      <td>High sodium consumption</td>\n",
       "    </tr>\n",
       "    <tr>\n",
       "      <th>6</th>\n",
       "      <td>1900</td>\n",
       "      <td>Normal sodium consumption</td>\n",
       "    </tr>\n",
       "    <tr>\n",
       "      <th>7</th>\n",
       "      <td>2300</td>\n",
       "      <td>Normal sodium consumption</td>\n",
       "    </tr>\n",
       "    <tr>\n",
       "      <th>8</th>\n",
       "      <td>2200</td>\n",
       "      <td>Normal sodium consumption</td>\n",
       "    </tr>\n",
       "    <tr>\n",
       "      <th>9</th>\n",
       "      <td>1500</td>\n",
       "      <td>High sodium consumption</td>\n",
       "    </tr>\n",
       "    <tr>\n",
       "      <th>10</th>\n",
       "      <td>2200</td>\n",
       "      <td>High sodium consumption</td>\n",
       "    </tr>\n",
       "    <tr>\n",
       "      <th>11</th>\n",
       "      <td>2200</td>\n",
       "      <td>Normal sodium consumption</td>\n",
       "    </tr>\n",
       "    <tr>\n",
       "      <th>12</th>\n",
       "      <td>2300</td>\n",
       "      <td>Normal sodium consumption</td>\n",
       "    </tr>\n",
       "    <tr>\n",
       "      <th>13</th>\n",
       "      <td>2200</td>\n",
       "      <td>Normal sodium consumption</td>\n",
       "    </tr>\n",
       "    <tr>\n",
       "      <th>14</th>\n",
       "      <td>1900</td>\n",
       "      <td>Normal sodium consumption</td>\n",
       "    </tr>\n",
       "    <tr>\n",
       "      <th>15</th>\n",
       "      <td>2200</td>\n",
       "      <td>Normal sodium consumption</td>\n",
       "    </tr>\n",
       "    <tr>\n",
       "      <th>16</th>\n",
       "      <td>1900</td>\n",
       "      <td>Normal sodium consumption</td>\n",
       "    </tr>\n",
       "    <tr>\n",
       "      <th>17</th>\n",
       "      <td>1500</td>\n",
       "      <td>High sodium consumption</td>\n",
       "    </tr>\n",
       "    <tr>\n",
       "      <th>18</th>\n",
       "      <td>1500</td>\n",
       "      <td>High sodium consumption</td>\n",
       "    </tr>\n",
       "    <tr>\n",
       "      <th>19</th>\n",
       "      <td>1900</td>\n",
       "      <td>High sodium consumption</td>\n",
       "    </tr>\n",
       "  </tbody>\n",
       "</table>\n",
       "</div>"
      ],
      "text/plain": [
       "    Daily Sodium Limit (mg)        Exceed limit or not\n",
       "0                      2300  Normal sodium consumption\n",
       "1                      1500    High sodium consumption\n",
       "2                      1500    High sodium consumption\n",
       "3                      2200    High sodium consumption\n",
       "4                      1500    High sodium consumption\n",
       "5                      2200    High sodium consumption\n",
       "6                      1900  Normal sodium consumption\n",
       "7                      2300  Normal sodium consumption\n",
       "8                      2200  Normal sodium consumption\n",
       "9                      1500    High sodium consumption\n",
       "10                     2200    High sodium consumption\n",
       "11                     2200  Normal sodium consumption\n",
       "12                     2300  Normal sodium consumption\n",
       "13                     2200  Normal sodium consumption\n",
       "14                     1900  Normal sodium consumption\n",
       "15                     2200  Normal sodium consumption\n",
       "16                     1900  Normal sodium consumption\n",
       "17                     1500    High sodium consumption\n",
       "18                     1500    High sodium consumption\n",
       "19                     1900    High sodium consumption"
      ]
     },
     "execution_count": 9,
     "metadata": {},
     "output_type": "execute_result"
    }
   ],
   "source": [
    "limit.head(20)"
   ]
  },
  {
   "cell_type": "code",
   "execution_count": 11,
   "id": "56420111",
   "metadata": {},
   "outputs": [
    {
     "data": {
      "text/plain": [
       "array(['Normal sodium consumption', 'High sodium consumption'],\n",
       "      dtype=object)"
      ]
     },
     "execution_count": 11,
     "metadata": {},
     "output_type": "execute_result"
    }
   ],
   "source": [
    "limit['Exceed limit or not'].unique()"
   ]
  },
  {
   "cell_type": "code",
   "execution_count": 6,
   "id": "5a9ba351",
   "metadata": {},
   "outputs": [],
   "source": [
    "x = Sodium_data[['Gender' , \n",
    "                 'age' ,\n",
    "                 'Daily Sodium intake',\n",
    "           'Hypertension']]\n",
    "y = Sodium_data[[ 'Daily Sodium Limit (mg)']]"
   ]
  },
  {
   "cell_type": "code",
   "execution_count": 7,
   "id": "ce8d911a",
   "metadata": {},
   "outputs": [],
   "source": [
    "data = x"
   ]
  },
  {
   "cell_type": "code",
   "execution_count": 8,
   "id": "cb28b08d",
   "metadata": {},
   "outputs": [],
   "source": [
    "categ = list(data.select_dtypes(include=['object']).columns)"
   ]
  },
  {
   "cell_type": "code",
   "execution_count": 9,
   "id": "79157ca5",
   "metadata": {},
   "outputs": [
    {
     "name": "stderr",
     "output_type": "stream",
     "text": [
      "C:\\Users\\SCM\\anaconda3\\lib\\site-packages\\pandas\\core\\frame.py:3191: SettingWithCopyWarning: \n",
      "A value is trying to be set on a copy of a slice from a DataFrame.\n",
      "Try using .loc[row_indexer,col_indexer] = value instead\n",
      "\n",
      "See the caveats in the documentation: https://pandas.pydata.org/pandas-docs/stable/user_guide/indexing.html#returning-a-view-versus-a-copy\n",
      "  self[k1] = value[k2]\n"
     ]
    }
   ],
   "source": [
    "# Encode Categorical Columns\n",
    "le = preprocessing.LabelEncoder()\n",
    "data[categ] = data[categ].apply(le.fit_transform)"
   ]
  },
  {
   "cell_type": "code",
   "execution_count": 10,
   "id": "b06524ff",
   "metadata": {},
   "outputs": [],
   "source": [
    "bools = list(data.select_dtypes(include=['bool']).columns)"
   ]
  },
  {
   "cell_type": "code",
   "execution_count": 11,
   "id": "ac737db4",
   "metadata": {},
   "outputs": [],
   "source": [
    "data[bools] = data[bools].astype(int)"
   ]
  },
  {
   "cell_type": "code",
   "execution_count": 12,
   "id": "0c2241b0",
   "metadata": {},
   "outputs": [
    {
     "name": "stdout",
     "output_type": "stream",
     "text": [
      "<class 'pandas.core.frame.DataFrame'>\n",
      "RangeIndex: 199 entries, 0 to 198\n",
      "Data columns (total 4 columns):\n",
      " #   Column               Non-Null Count  Dtype\n",
      "---  ------               --------------  -----\n",
      " 0   Gender               199 non-null    int32\n",
      " 1   age                  199 non-null    int32\n",
      " 2   Daily Sodium intake  199 non-null    int64\n",
      " 3   Hypertension         199 non-null    int32\n",
      "dtypes: int32(3), int64(1)\n",
      "memory usage: 4.0 KB\n"
     ]
    }
   ],
   "source": [
    "data.info()"
   ]
  },
  {
   "cell_type": "code",
   "execution_count": 13,
   "id": "b01e51f7",
   "metadata": {},
   "outputs": [
    {
     "data": {
      "text/html": [
       "<div>\n",
       "<style scoped>\n",
       "    .dataframe tbody tr th:only-of-type {\n",
       "        vertical-align: middle;\n",
       "    }\n",
       "\n",
       "    .dataframe tbody tr th {\n",
       "        vertical-align: top;\n",
       "    }\n",
       "\n",
       "    .dataframe thead th {\n",
       "        text-align: right;\n",
       "    }\n",
       "</style>\n",
       "<table border=\"1\" class=\"dataframe\">\n",
       "  <thead>\n",
       "    <tr style=\"text-align: right;\">\n",
       "      <th></th>\n",
       "      <th>Gender</th>\n",
       "      <th>age</th>\n",
       "      <th>Daily Sodium intake</th>\n",
       "      <th>Hypertension</th>\n",
       "    </tr>\n",
       "  </thead>\n",
       "  <tbody>\n",
       "    <tr>\n",
       "      <th>0</th>\n",
       "      <td>1</td>\n",
       "      <td>0</td>\n",
       "      <td>1907</td>\n",
       "      <td>0</td>\n",
       "    </tr>\n",
       "    <tr>\n",
       "      <th>1</th>\n",
       "      <td>1</td>\n",
       "      <td>0</td>\n",
       "      <td>2503</td>\n",
       "      <td>1</td>\n",
       "    </tr>\n",
       "    <tr>\n",
       "      <th>2</th>\n",
       "      <td>0</td>\n",
       "      <td>0</td>\n",
       "      <td>2574</td>\n",
       "      <td>1</td>\n",
       "    </tr>\n",
       "    <tr>\n",
       "      <th>3</th>\n",
       "      <td>0</td>\n",
       "      <td>3</td>\n",
       "      <td>2328</td>\n",
       "      <td>0</td>\n",
       "    </tr>\n",
       "    <tr>\n",
       "      <th>4</th>\n",
       "      <td>0</td>\n",
       "      <td>1</td>\n",
       "      <td>1730</td>\n",
       "      <td>0</td>\n",
       "    </tr>\n",
       "    <tr>\n",
       "      <th>...</th>\n",
       "      <td>...</td>\n",
       "      <td>...</td>\n",
       "      <td>...</td>\n",
       "      <td>...</td>\n",
       "    </tr>\n",
       "    <tr>\n",
       "      <th>194</th>\n",
       "      <td>0</td>\n",
       "      <td>3</td>\n",
       "      <td>1571</td>\n",
       "      <td>0</td>\n",
       "    </tr>\n",
       "    <tr>\n",
       "      <th>195</th>\n",
       "      <td>0</td>\n",
       "      <td>3</td>\n",
       "      <td>2376</td>\n",
       "      <td>0</td>\n",
       "    </tr>\n",
       "    <tr>\n",
       "      <th>196</th>\n",
       "      <td>0</td>\n",
       "      <td>2</td>\n",
       "      <td>1780</td>\n",
       "      <td>0</td>\n",
       "    </tr>\n",
       "    <tr>\n",
       "      <th>197</th>\n",
       "      <td>1</td>\n",
       "      <td>0</td>\n",
       "      <td>2244</td>\n",
       "      <td>0</td>\n",
       "    </tr>\n",
       "    <tr>\n",
       "      <th>198</th>\n",
       "      <td>1</td>\n",
       "      <td>3</td>\n",
       "      <td>2460</td>\n",
       "      <td>0</td>\n",
       "    </tr>\n",
       "  </tbody>\n",
       "</table>\n",
       "<p>199 rows × 4 columns</p>\n",
       "</div>"
      ],
      "text/plain": [
       "     Gender  age  Daily Sodium intake  Hypertension\n",
       "0         1    0                 1907             0\n",
       "1         1    0                 2503             1\n",
       "2         0    0                 2574             1\n",
       "3         0    3                 2328             0\n",
       "4         0    1                 1730             0\n",
       "..      ...  ...                  ...           ...\n",
       "194       0    3                 1571             0\n",
       "195       0    3                 2376             0\n",
       "196       0    2                 1780             0\n",
       "197       1    0                 2244             0\n",
       "198       1    3                 2460             0\n",
       "\n",
       "[199 rows x 4 columns]"
      ]
     },
     "execution_count": 13,
     "metadata": {},
     "output_type": "execute_result"
    }
   ],
   "source": [
    "data"
   ]
  },
  {
   "cell_type": "code",
   "execution_count": 14,
   "id": "da92096a",
   "metadata": {},
   "outputs": [],
   "source": [
    "x_train , x_test , y_train , y_test = train_test_split (data , y , test_size = 0.3 , train_size = 0.7 , random_state = 0)"
   ]
  },
  {
   "cell_type": "code",
   "execution_count": 15,
   "id": "51b2ac0d",
   "metadata": {},
   "outputs": [
    {
     "name": "stdout",
     "output_type": "stream",
     "text": [
      "Train Data x Shape:  (139, 4)\n",
      "Test Data x Shape:  (60, 4)\n",
      "Train Data y Shape:  (139, 1)\n",
      "Test Data y Shape:  (60, 1)\n"
     ]
    }
   ],
   "source": [
    "print (\"Train Data x Shape: \" , x_train.shape)\n",
    "print (\"Test Data x Shape: \" , x_test.shape)\n",
    "print (\"Train Data y Shape: \" , y_train.shape)\n",
    "print (\"Test Data y Shape: \" , y_test.shape)"
   ]
  },
  {
   "cell_type": "code",
   "execution_count": 16,
   "id": "a99c5518",
   "metadata": {},
   "outputs": [
    {
     "data": {
      "text/plain": [
       "RandomForestClassifier(max_leaf_nodes=5, n_estimators=75, n_jobs=-1)"
      ]
     },
     "execution_count": 16,
     "metadata": {},
     "output_type": "execute_result"
    }
   ],
   "source": [
    "Random_Forest_Classifier = RandomForestClassifier( n_estimators = 75 , max_leaf_nodes = 5 , n_jobs = -1 )\n",
    "Random_Forest_Classifier"
   ]
  },
  {
   "cell_type": "code",
   "execution_count": 17,
   "id": "dc5c70d6",
   "metadata": {},
   "outputs": [
    {
     "data": {
      "text/plain": [
       "RandomForestClassifier(max_leaf_nodes=5, n_estimators=75, n_jobs=-1)"
      ]
     },
     "execution_count": 17,
     "metadata": {},
     "output_type": "execute_result"
    }
   ],
   "source": [
    "Random_Forest_Classifier.fit( x_train , y_train.values.ravel() )"
   ]
  },
  {
   "cell_type": "code",
   "execution_count": 18,
   "id": "8952b250",
   "metadata": {},
   "outputs": [
    {
     "data": {
      "text/plain": [
       "array([1500, 2200, 2300, 1900, 2200, 2200, 2200, 1500, 2300, 2200, 2200,\n",
       "       1900, 1500, 1900, 1900, 2300, 2200, 1900, 1500, 1900, 1900, 1900,\n",
       "       2200, 1900, 1900, 2300, 1900, 2200, 2200, 1900, 1900, 2200, 2200,\n",
       "       1900, 2200, 2200, 1500, 2300, 1900, 2300, 1900, 2200, 1900, 1900,\n",
       "       2200, 2200, 2200, 1900, 1900, 1900, 1900, 1900, 2300, 2200, 2200,\n",
       "       2200, 2300, 1500, 1900, 2200], dtype=int64)"
      ]
     },
     "execution_count": 18,
     "metadata": {},
     "output_type": "execute_result"
    }
   ],
   "source": [
    "Predict_Value_Of_Random_Forest_Classifier = Random_Forest_Classifier.predict( x_test )\n",
    "Predict_Value_Of_Random_Forest_Classifier"
   ]
  },
  {
   "cell_type": "code",
   "execution_count": 19,
   "id": "9a4fcc95",
   "metadata": {},
   "outputs": [
    {
     "name": "stdout",
     "output_type": "stream",
     "text": [
      "Accuracy :  93.33333333333333 %\n"
     ]
    }
   ],
   "source": [
    "print( \"Accuracy : \" , accuracy_score( y_test , Predict_Value_Of_Random_Forest_Classifier )*100 , \"%\" )"
   ]
  },
  {
   "cell_type": "code",
   "execution_count": null,
   "id": "3dc64c66",
   "metadata": {},
   "outputs": [],
   "source": []
  },
  {
   "cell_type": "code",
   "execution_count": 20,
   "id": "724618fa",
   "metadata": {},
   "outputs": [
    {
     "data": {
      "text/plain": [
       "LogisticRegression(C=0.1, n_jobs=-1)"
      ]
     },
     "execution_count": 20,
     "metadata": {},
     "output_type": "execute_result"
    }
   ],
   "source": [
    "Logistic_Regression = LogisticRegression( n_jobs = -1 , C = 0.1 , penalty = 'l2' )\n",
    "Logistic_Regression"
   ]
  },
  {
   "cell_type": "code",
   "execution_count": 21,
   "id": "67d7fee3",
   "metadata": {},
   "outputs": [
    {
     "data": {
      "text/plain": [
       "LogisticRegression(C=0.1, n_jobs=-1)"
      ]
     },
     "execution_count": 21,
     "metadata": {},
     "output_type": "execute_result"
    }
   ],
   "source": [
    "Logistic_Regression.fit( x_train , y_train.values.ravel() )"
   ]
  },
  {
   "cell_type": "code",
   "execution_count": 22,
   "id": "0ea333ee",
   "metadata": {},
   "outputs": [
    {
     "data": {
      "text/plain": [
       "array([1500, 2200, 1900, 1900, 2200, 2200, 2200, 1900, 2300, 2200, 2200,\n",
       "       1900, 1500, 2200, 1900, 2300, 2200, 1900, 1500, 1900, 1900, 1900,\n",
       "       2200, 1900, 1900, 2300, 1900, 2200, 2200, 2200, 1900, 2200, 2200,\n",
       "       1900, 1900, 2200, 1500, 1900, 2200, 1900, 2200, 2200, 1900, 2200,\n",
       "       2200, 2200, 2200, 1900, 1900, 1900, 1900, 1900, 2300, 2200, 2200,\n",
       "       2200, 1900, 1500, 1900, 2200], dtype=int64)"
      ]
     },
     "execution_count": 22,
     "metadata": {},
     "output_type": "execute_result"
    }
   ],
   "source": [
    "Predicted_Value_Of_Logistic_Regression = Logistic_Regression.predict( x_test )\n",
    "Predicted_Value_Of_Logistic_Regression"
   ]
  },
  {
   "cell_type": "code",
   "execution_count": 23,
   "id": "0636cf3e",
   "metadata": {},
   "outputs": [
    {
     "name": "stdout",
     "output_type": "stream",
     "text": [
      "Accuracy :  81.66666666666667 %\n"
     ]
    }
   ],
   "source": [
    "print('Accuracy : ' , accuracy_score( y_test , Predicted_Value_Of_Logistic_Regression )*100 , \"%\" )"
   ]
  },
  {
   "cell_type": "code",
   "execution_count": null,
   "id": "8449acc0",
   "metadata": {},
   "outputs": [],
   "source": []
  },
  {
   "cell_type": "code",
   "execution_count": 24,
   "id": "58e34fdd",
   "metadata": {},
   "outputs": [],
   "source": [
    "from sklearn.ensemble import GradientBoostingClassifier"
   ]
  },
  {
   "cell_type": "code",
   "execution_count": 25,
   "id": "fb436ade",
   "metadata": {},
   "outputs": [
    {
     "name": "stderr",
     "output_type": "stream",
     "text": [
      "C:\\Users\\SCM\\anaconda3\\lib\\site-packages\\sklearn\\utils\\validation.py:63: DataConversionWarning: A column-vector y was passed when a 1d array was expected. Please change the shape of y to (n_samples, ), for example using ravel().\n",
      "  return f(*args, **kwargs)\n"
     ]
    },
    {
     "data": {
      "text/plain": [
       "array([1500, 2200, 1900, 1900, 2200, 2200, 2200, 1500, 2300, 2200, 2200,\n",
       "       1900, 1500, 1900, 1900, 2300, 2200, 1900, 1500, 1900, 1900, 1900,\n",
       "       2200, 1900, 1900, 2300, 1900, 2200, 2200, 1900, 1900, 2200, 2200,\n",
       "       1900, 2200, 2200, 1500, 1900, 1900, 1500, 1900, 2200, 1900, 1900,\n",
       "       2200, 2200, 2200, 1900, 1900, 1900, 1900, 1900, 2300, 2200, 2200,\n",
       "       2200, 1500, 1500, 1900, 2200], dtype=int64)"
      ]
     },
     "execution_count": 25,
     "metadata": {},
     "output_type": "execute_result"
    }
   ],
   "source": [
    "gb_clf2 = GradientBoostingClassifier(n_estimators=20, learning_rate=0.5, max_features=2, max_depth=2, random_state=0)\n",
    "gb_clf2.fit(x_train, y_train)\n",
    "predictions = gb_clf2.predict(x_test)\n",
    "predictions"
   ]
  },
  {
   "cell_type": "code",
   "execution_count": 26,
   "id": "f38df1b9",
   "metadata": {},
   "outputs": [
    {
     "name": "stdout",
     "output_type": "stream",
     "text": [
      "Accuracy :  96.66666666666667 %\n"
     ]
    }
   ],
   "source": [
    "print('Accuracy : ' , accuracy_score( y_test , predictions )*100 , \"%\" )"
   ]
  },
  {
   "cell_type": "code",
   "execution_count": null,
   "id": "0da882a0",
   "metadata": {},
   "outputs": [],
   "source": []
  },
  {
   "cell_type": "code",
   "execution_count": 27,
   "id": "e1a9aa1f",
   "metadata": {},
   "outputs": [
    {
     "data": {
      "text/plain": [
       "array([1500, 2200, 1500, 1900, 2200, 2200, 2200, 2300, 2300, 2200, 2200,\n",
       "       1900, 1500, 1900, 1900, 2300, 2200, 1900, 1500, 1900, 1900, 1900,\n",
       "       2200, 1900, 1900, 2300, 1900, 2200, 2200, 1900, 1900, 2200, 2200,\n",
       "       1900, 2200, 2200, 1500, 2300, 1900, 1500, 1900, 2200, 1900, 1900,\n",
       "       2200, 2200, 2200, 1900, 1900, 1900, 1900, 1900, 2300, 2200, 2200,\n",
       "       2200, 1500, 1500, 1900, 2200], dtype=int64)"
      ]
     },
     "execution_count": 27,
     "metadata": {},
     "output_type": "execute_result"
    }
   ],
   "source": [
    "Support_Vector_Machine = SVC( kernel = 'linear' )\n",
    "\n",
    "Support_Vector_Machine.fit( x_train , y_train.values.ravel() )\n",
    "\n",
    "Predicted_Value_Of_Support_Vector_Machine = Support_Vector_Machine.predict( x_test )\n",
    "Predicted_Value_Of_Support_Vector_Machine\n"
   ]
  },
  {
   "cell_type": "code",
   "execution_count": 28,
   "id": "804d411d",
   "metadata": {},
   "outputs": [
    {
     "name": "stdout",
     "output_type": "stream",
     "text": [
      "Accuracy :  96.66666666666667 %\n"
     ]
    }
   ],
   "source": [
    "print( \"Accuracy : \" , accuracy_score( Predicted_Value_Of_Support_Vector_Machine , y_test )*100 , \"%\" )"
   ]
  },
  {
   "cell_type": "code",
   "execution_count": null,
   "id": "fdc32d99",
   "metadata": {},
   "outputs": [],
   "source": []
  },
  {
   "cell_type": "code",
   "execution_count": 29,
   "id": "311dd439",
   "metadata": {},
   "outputs": [
    {
     "data": {
      "text/plain": [
       "array([1500, 2200, 1500, 1900, 2200, 2200, 2200, 1500, 2300, 2200, 2200,\n",
       "       1900, 1500, 1900, 1900, 2300, 2200, 1900, 1500, 1900, 1900, 1900,\n",
       "       2200, 1900, 1900, 2300, 1900, 2200, 2200, 1900, 1900, 2200, 2200,\n",
       "       1900, 2200, 2200, 1500, 1500, 1900, 1500, 1900, 2200, 1900, 1900,\n",
       "       2200, 2200, 2200, 1900, 1900, 1900, 1900, 1900, 2300, 2200, 2200,\n",
       "       2200, 1500, 1500, 1900, 2200], dtype=int64)"
      ]
     },
     "execution_count": 29,
     "metadata": {},
     "output_type": "execute_result"
    }
   ],
   "source": [
    "Naive_Bayes = GaussianNB()\n",
    "Naive_Bayes.fit( x_train , y_train.values.ravel() )\n",
    "Predicted_Value_Of_Naive_Bayes = Naive_Bayes.predict( x_test )\n",
    "Predicted_Value_Of_Naive_Bayes"
   ]
  },
  {
   "cell_type": "code",
   "execution_count": 30,
   "id": "34ff004a",
   "metadata": {},
   "outputs": [
    {
     "name": "stdout",
     "output_type": "stream",
     "text": [
      "Accuracy :  100.0 %\n"
     ]
    }
   ],
   "source": [
    "print(\"Accuracy : \" , accuracy_score( y_test , Predicted_Value_Of_Naive_Bayes )*100 , \"%\" )"
   ]
  },
  {
   "cell_type": "code",
   "execution_count": null,
   "id": "ce26745d",
   "metadata": {},
   "outputs": [],
   "source": []
  },
  {
   "cell_type": "code",
   "execution_count": 31,
   "id": "14e27f18",
   "metadata": {},
   "outputs": [
    {
     "data": {
      "text/plain": [
       "array([1500, 2200, 1500, 1900, 2200, 2200, 2200, 1500, 2300, 2200, 2200,\n",
       "       1900, 1500, 1900, 1900, 2300, 2200, 1900, 1500, 1900, 1900, 1900,\n",
       "       2200, 1900, 1900, 2300, 1900, 2200, 2200, 1900, 1900, 2200, 2200,\n",
       "       1900, 2200, 2200, 1500, 1500, 1900, 1500, 1900, 2200, 1900, 1900,\n",
       "       2200, 2200, 2200, 1900, 1900, 1900, 1900, 1900, 2300, 2200, 2200,\n",
       "       2200, 1500, 1500, 1900, 2200], dtype=int64)"
      ]
     },
     "execution_count": 31,
     "metadata": {},
     "output_type": "execute_result"
    }
   ],
   "source": [
    "Decision_Tree_Classifier = DecisionTreeClassifier( criterion = 'entropy', random_state = 0 )\n",
    "\n",
    "Decision_Tree_Classifier.fit( x_train , y_train.values.ravel() )\n",
    "\n",
    "Predicted_Value_Of_Decision_Tree = Decision_Tree_Classifier.predict( x_test )\n",
    "Predicted_Value_Of_Decision_Tree"
   ]
  },
  {
   "cell_type": "code",
   "execution_count": 32,
   "id": "02938611",
   "metadata": {},
   "outputs": [
    {
     "name": "stdout",
     "output_type": "stream",
     "text": [
      "Accuracy :  100.0 %\n"
     ]
    }
   ],
   "source": [
    "print( \"Accuracy : \" , accuracy_score( y_test , Predicted_Value_Of_Decision_Tree)*100 , \"%\" )"
   ]
  },
  {
   "cell_type": "code",
   "execution_count": null,
   "id": "b3cbf52c",
   "metadata": {},
   "outputs": [],
   "source": []
  },
  {
   "cell_type": "code",
   "execution_count": 33,
   "id": "0771d9f4",
   "metadata": {},
   "outputs": [
    {
     "data": {
      "text/plain": [
       "array([1500, 2200, 2200, 2200, 2300, 2300, 1900, 1900, 2300, 2200, 2300,\n",
       "       2200, 1500, 2300, 2200, 1900, 2200, 2200, 1500, 2200, 2200, 1900,\n",
       "       2200, 2300, 2300, 1900, 2200, 2200, 2200, 2200, 1900, 2200, 2200,\n",
       "       2200, 1900, 1500, 1500, 2200, 1500, 1900, 2200, 2200, 2300, 1900,\n",
       "       2200, 2200, 2200, 2300, 1900, 1900, 2300, 2200, 1900, 2200, 2200,\n",
       "       2200, 1900, 1500, 1900, 1900], dtype=int64)"
      ]
     },
     "execution_count": 33,
     "metadata": {},
     "output_type": "execute_result"
    }
   ],
   "source": [
    "K_Neighbors_Classifier = KNeighborsClassifier( n_neighbors = 5, metric = 'minkowski', p = 2 )\n",
    "\n",
    "K_Neighbors_Classifier.fit( x_train , y_train.values.ravel() )\n",
    "\n",
    "Predicted_Value_of_K_Neighbors_Classifier = K_Neighbors_Classifier.predict( x_test )\n",
    "Predicted_Value_of_K_Neighbors_Classifier"
   ]
  },
  {
   "cell_type": "code",
   "execution_count": 34,
   "id": "aa1b9dd2",
   "metadata": {},
   "outputs": [
    {
     "name": "stdout",
     "output_type": "stream",
     "text": [
      "Accuracy :  45.0 %\n"
     ]
    }
   ],
   "source": [
    "print( \"Accuracy : \" , accuracy_score( y_test , Predicted_Value_of_K_Neighbors_Classifier)*100 , \"%\" )"
   ]
  },
  {
   "cell_type": "code",
   "execution_count": null,
   "id": "cdaafcaa",
   "metadata": {},
   "outputs": [],
   "source": []
  },
  {
   "cell_type": "code",
   "execution_count": 52,
   "id": "6d0988d9",
   "metadata": {},
   "outputs": [],
   "source": [
    "import pickle\n",
    "# open a file, where you ant to store the data\n",
    "file = open('Support_Vector_Machine.pkl', 'wb')\n",
    "\n",
    "# dump information to that file\n",
    "pickle.dump(Support_Vector_Machine, file)"
   ]
  },
  {
   "cell_type": "code",
   "execution_count": null,
   "id": "d570906c",
   "metadata": {},
   "outputs": [],
   "source": []
  }
 ],
 "metadata": {
  "kernelspec": {
   "display_name": "Python 3 (ipykernel)",
   "language": "python",
   "name": "python3"
  },
  "language_info": {
   "codemirror_mode": {
    "name": "ipython",
    "version": 3
   },
   "file_extension": ".py",
   "mimetype": "text/x-python",
   "name": "python",
   "nbconvert_exporter": "python",
   "pygments_lexer": "ipython3",
   "version": "3.8.8"
  }
 },
 "nbformat": 4,
 "nbformat_minor": 5
}
